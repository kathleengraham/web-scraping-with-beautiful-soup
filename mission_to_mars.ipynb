{
 "cells": [
  {
   "cell_type": "markdown",
   "metadata": {},
   "source": [
    "# Web Scraping with Beautiful Soup"
   ]
  },
  {
   "cell_type": "code",
   "execution_count": 1,
   "metadata": {},
   "outputs": [],
   "source": [
    "# import dependencies\n",
    "import pandas as pd\n",
    "from bs4 import BeautifulSoup as bs\n",
    "from splinter import Browser"
   ]
  },
  {
   "cell_type": "markdown",
   "metadata": {},
   "source": [
    "### NASA Mars News"
   ]
  },
  {
   "cell_type": "code",
   "execution_count": 6,
   "metadata": {},
   "outputs": [
    {
     "name": "stdout",
     "output_type": "stream",
     "text": [
      "Small Satellite Mission of the Year\n",
      "The first interplanetary CubeSats were recognized by the engineering community with the 2019 Small Satellite Mission of the Year award.\n"
     ]
    }
   ],
   "source": [
    "# scrape latest news article title and headline\n",
    "\n",
    "# initialize browser\n",
    "executable_path = {'executable_path': '../chromedriver'}\n",
    "browser = Browser('chrome', **executable_path, headless=False)\n",
    "\n",
    "# store full url\n",
    "news_url = 'https://mars.nasa.gov/news/?page=0&per_page=40&order=publish_date+desc%2Ccreated_at+desc&search=&category=19%2C165%2C184%2C204&blank_scope=Latest'\n",
    "\n",
    "# visit site\n",
    "browser.visit(news_url)\n",
    "\n",
    "# parse through html\n",
    "news_soup = bs(browser.html, 'html.parser')\n",
    "\n",
    "# store title and headline\n",
    "news_title = news_soup.find_all('div', class_='content_title')[0].text\n",
    "news_p = news_soup.find_all('div', class_='article_teaser_body')[0].text\n",
    "\n",
    "# close browser\n",
    "browser.quit()\n",
    "\n",
    "# print title and headline\n",
    "print(news_title)\n",
    "print(news_p)"
   ]
  },
  {
   "cell_type": "markdown",
   "metadata": {},
   "source": [
    "### JPL Mars Space Images - Featured Image"
   ]
  },
  {
   "cell_type": "code",
   "execution_count": 8,
   "metadata": {},
   "outputs": [
    {
     "data": {
      "text/plain": [
       "'https://www.jpl.nasa.gov/spaceimages/images/mediumsize/PIA19382_ip.jpg'"
      ]
     },
     "execution_count": 8,
     "metadata": {},
     "output_type": "execute_result"
    }
   ],
   "source": [
    "# scrape featured_image_url\n",
    "\n",
    "# initialize browser\n",
    "executable_path = {'executable_path': '../chromedriver'}\n",
    "browser = Browser('chrome', **executable_path, headless=False)\n",
    "\n",
    "# store full and base urls\n",
    "image_url = 'https://www.jpl.nasa.gov/spaceimages/?search=&category=Mars'\n",
    "image_base_url = 'https://www.jpl.nasa.gov'\n",
    "\n",
    "# visit site\n",
    "browser.visit(image_url)\n",
    "\n",
    "# click on 'full image' to open the image in full\n",
    "browser.click_link_by_partial_text('FULL IMAGE')\n",
    "\n",
    "# parse through html\n",
    "image_soup = bs(browser.html, 'html.parser')\n",
    "\n",
    "# store partial url\n",
    "img = image_soup.find('img', class_='fancybox-image')['src']\n",
    "\n",
    "# combine base url with partial url\n",
    "featured_image_url = image_base_url + img\n",
    "\n",
    "# close browser\n",
    "browser.quit()\n",
    "\n",
    "# print url\n",
    "featured_image_url"
   ]
  },
  {
   "cell_type": "markdown",
   "metadata": {},
   "source": [
    "### Mars Weather"
   ]
  },
  {
   "cell_type": "code",
   "execution_count": 9,
   "metadata": {},
   "outputs": [
    {
     "data": {
      "text/plain": [
       "'InSight sol 250 (2019-08-10) low -100.0ºC (-148.1ºF) high -26.2ºC (-15.1ºF)\\nwinds from the SSE at 4.4 m/s (9.8 mph) gusting to 16.2 m/s (36.2 mph)\\npressure at 7.60 hPapic.twitter.com/9sZRRUi3dm'"
      ]
     },
     "execution_count": 9,
     "metadata": {},
     "output_type": "execute_result"
    }
   ],
   "source": [
    "# scrape latest weather tweet\n",
    "\n",
    "# initialize browser\n",
    "executable_path = {'executable_path': '../chromedriver'}\n",
    "browser = Browser('chrome', **executable_path, headless=False)\n",
    "\n",
    "# store full and base urls\n",
    "weather_url = 'https://twitter.com/marswxreport?lang=en'\n",
    "\n",
    "# visit site\n",
    "browser.visit(weather_url)\n",
    "\n",
    "# parse through html\n",
    "weather_soup = bs(browser.html, 'html.parser')\n",
    "\n",
    "# store latest tweet\n",
    "latest_weather_tweet = weather_soup.find('p', class_='TweetTextSize').text\n",
    "\n",
    "# close browser\n",
    "browser.quit()\n",
    "\n",
    "# print latest tweet\n",
    "latest_weather_tweet"
   ]
  },
  {
   "cell_type": "markdown",
   "metadata": {},
   "source": [
    "### Mars Facts"
   ]
  },
  {
   "cell_type": "code",
   "execution_count": 10,
   "metadata": {},
   "outputs": [],
   "source": [
    "# scrape table with facts about mars\n",
    "\n",
    "# initialize browser\n",
    "executable_path = {'executable_path': '../chromedriver'}\n",
    "browser = Browser('chrome', **executable_path, headless=False)\n",
    "\n",
    "# store full url\n",
    "facts_url = 'https://space-facts.com/mars/'\n",
    "\n",
    "# reading html into a dataframe\n",
    "facts_table = pd.read_html(facts_url)\n",
    "\n",
    "# store only mars facts\n",
    "mars_table = facts_table[1]\n",
    "\n",
    "# renaming columns\n",
    "facts_mapping = {0:'Description', 1:'Value'}\n",
    "mars_table = mars_table.rename(columns=facts_mapping)\n",
    "\n",
    "# saving as html table format\n",
    "mars_table.to_html('mars_table.html', index=False)\n",
    "\n",
    "# close browser\n",
    "browser.quit()\n",
    "\n",
    "# print data frame\n",
    "print(mars_table)"
   ]
  },
  {
   "cell_type": "markdown",
   "metadata": {},
   "source": [
    "### Mars Hemispheres"
   ]
  },
  {
   "cell_type": "code",
   "execution_count": 11,
   "metadata": {},
   "outputs": [],
   "source": [
    "# scrape hemisphere images\n",
    "\n",
    "# initialize browser\n",
    "executable_path = {'executable_path': '../chromedriver'}\n",
    "browser = Browser('chrome', **executable_path, headless=False)\n",
    "\n",
    "# store full and base urls\n",
    "astro_url = 'https://astrogeology.usgs.gov/search/results?q=hemisphere+enhanced&k1=target&v1=Mars'\n",
    "astro_base_url = \"https://astrogeology.usgs.gov\"\n",
    "\n",
    "# visit url\n",
    "browser.visit(astro_url)\n",
    "astro_soup = bs(browser.html, 'html.parser')\n",
    "\n",
    "# creating empty lists to append scraped data\n",
    "hemi_image_list = []\n",
    "title_list = []\n",
    "url_list = []\n",
    "\n",
    "# loop through links and avoid two links that are the same\n",
    "div_list = astro_soup.find_all('a', class_='itemLink')\n",
    "for link in div_list:\n",
    "    image_url = link.get('href')\n",
    "    if image_url not in hemi_image_list:\n",
    "        hemi_image_list.append(image_url)\n",
    "        browser.visit(astro_base_url + image_url)\n",
    "        title_list.append(browser.find_by_tag('h2').text)\n",
    "        browser.find_link_by_text('Sample').click()\n",
    "        \n",
    "for i in range(4,0,-1):\n",
    "    url_list.append(browser.windows[i].url)\n",
    "    \n",
    "# close browser\n",
    "browser.quit()"
   ]
  },
  {
   "cell_type": "code",
   "execution_count": 12,
   "metadata": {},
   "outputs": [
    {
     "data": {
      "text/plain": [
       "[{'title': 'Cerberus Hemisphere Enhanced',\n",
       "  'img_url': 'https://astropedia.astrogeology.usgs.gov/download/Mars/Viking/cerberus_enhanced.tif/full.jpg'},\n",
       " {'title': 'Schiaparelli Hemisphere Enhanced',\n",
       "  'img_url': 'https://astropedia.astrogeology.usgs.gov/download/Mars/Viking/schiaparelli_enhanced.tif/full.jpg'},\n",
       " {'title': 'Syrtis Major Hemisphere Enhanced',\n",
       "  'img_url': 'https://astropedia.astrogeology.usgs.gov/download/Mars/Viking/syrtis_major_enhanced.tif/full.jpg'},\n",
       " {'title': 'Valles Marineris Hemisphere Enhanced',\n",
       "  'img_url': 'https://astropedia.astrogeology.usgs.gov/download/Mars/Viking/valles_marineris_enhanced.tif/full.jpg'}]"
      ]
     },
     "execution_count": 12,
     "metadata": {},
     "output_type": "execute_result"
    }
   ],
   "source": [
    "# create list of hemisphere titles and hemisphere urls in dictionaries\n",
    "featured_hemisphere_list = [{'title': title_list[0], 'img_url': url_list[0]},\n",
    "                            {'title': title_list[1], 'img_url': url_list[1]},\n",
    "                            {'title': title_list[2], 'img_url': url_list[2]},\n",
    "                            {'title': title_list[3], 'img_url': url_list[3]}]\n",
    "featured_hemisphere_list"
   ]
  },
  {
   "cell_type": "code",
   "execution_count": null,
   "metadata": {},
   "outputs": [],
   "source": []
  }
 ],
 "metadata": {
  "kernelspec": {
   "display_name": "Python 3",
   "language": "python",
   "name": "python3"
  },
  "language_info": {
   "codemirror_mode": {
    "name": "ipython",
    "version": 3
   },
   "file_extension": ".py",
   "mimetype": "text/x-python",
   "name": "python",
   "nbconvert_exporter": "python",
   "pygments_lexer": "ipython3",
   "version": "3.7.3"
  }
 },
 "nbformat": 4,
 "nbformat_minor": 2
}
